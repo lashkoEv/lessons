{
 "cells": [
  {
   "cell_type": "markdown",
   "metadata": {},
   "source": [
    "### Переменные"
   ]
  },
  {
   "cell_type": "code",
   "execution_count": 6,
   "metadata": {},
   "outputs": [],
   "source": [
    "# определение (объявление, инициализация), переопределение\n",
    "\n"
   ]
  },
  {
   "cell_type": "markdown",
   "metadata": {},
   "source": [
    "### Ввод / вывод"
   ]
  },
  {
   "cell_type": "code",
   "execution_count": 4,
   "metadata": {},
   "outputs": [],
   "source": [
    "# print(), display()\n",
    "\n",
    "# a = input()"
   ]
  },
  {
   "cell_type": "code",
   "execution_count": 5,
   "metadata": {},
   "outputs": [
    {
     "name": "stdout",
     "output_type": "stream",
     "text": [
      "<class 'str'>\n"
     ]
    }
   ],
   "source": [
    "# print(type(a))"
   ]
  },
  {
   "cell_type": "markdown",
   "metadata": {},
   "source": [
    "### Простые типы данных"
   ]
  },
  {
   "cell_type": "code",
   "execution_count": 2,
   "metadata": {},
   "outputs": [],
   "source": [
    "# Числовые - int(1), float (1.0), complex (1+2j)\n",
    "\n",
    "\n",
    "# Текстовые - str ('...', \"...\", '''...'''), f-строка (f'... {} ...')\n",
    "\n",
    "\n",
    "# Логические - boolean (True, False)\n",
    "\n",
    "\n",
    "\n",
    "# NoneType (None)\n",
    "\n"
   ]
  },
  {
   "cell_type": "markdown",
   "metadata": {},
   "source": [
    "### Приведение типов"
   ]
  },
  {
   "cell_type": "code",
   "execution_count": 28,
   "metadata": {},
   "outputs": [],
   "source": [
    "# Явное приведение\n",
    "\n",
    "# * bool() – приведение к логическому типу\n",
    "\n",
    "# bool(False)\n",
    "# bool(None)\n",
    "# bool(0)\n",
    "# bool(0.0)\n",
    "# bool(0+0j)\n",
    "# bool(\"\")\n",
    "\n",
    "# bool(True)\n",
    "# bool(1)\n",
    "# bool(10)\n",
    "# bool(1.0)\n",
    "# bool(1+1j)\n",
    "# bool(\"Hello world\")\n",
    "\n",
    "# * int() – приведение к целочисленному типу\n",
    "\n",
    "# int(1)\n",
    "# int(0)\n",
    "# int(10.1)\n",
    "# int(1+1j)\n",
    "\n",
    "# x = 10.0\n",
    "# y = int(x)\n",
    "# print(x, type(x), y, type(y))\n",
    "\n",
    "# int('')\n",
    "# int('1')\n",
    "# int('Hello 1')\n",
    "# int('1.0')\n",
    "\n",
    "# * float() – приведение к вещественному типу\n",
    "\n",
    "# float(1)\n",
    "# float(0)\n",
    "# float(10)\n",
    "# float('10.2')\n",
    "# float('10.3e2')\n",
    "\n",
    "# float('NaN')\n",
    "# float('Infinity')\n",
    "# float('-Infinity')\n",
    "# float('None')\n",
    "\n",
    "# float('')\n",
    "# float(1+2j)\n",
    "# float('1+2j')\n",
    "\n",
    "# * complex() – приведение к типу комплексного числа\n",
    "\n",
    "# ? Нельзя привести из комплексного числа в любой тип кроме строки\n",
    "# str(1+2j)\n",
    "\n",
    "# complex(True)\n",
    "# complex(False)\n",
    "# complex(0)\n",
    "# complex(1)\n",
    "# complex(10)\n",
    "# complex(5.5)\n",
    "# complex('1+1j')\n",
    "\n",
    "# complex('NaN')\n",
    "# complex('Infinity')\n",
    "# complex('-Infinity')\n",
    "\n",
    "# complex('None')\n",
    "# complex('1 + 1 j')\n",
    "\n",
    "# * str() – приведение к текстовому или строковому типу\n",
    "\n",
    "# ? К строке можно привести всё\n",
    "\n",
    "# * Приведение к NoneType?\n",
    "\n",
    "# ? К NoneType нельзя привести какое-либо значение!\n",
    "\n",
    "# Неявное приведение\n",
    "\n",
    "# a = 1\n",
    "# b = 1.1\n",
    "# c = a + b\n",
    "# d = b + a\n",
    "# print(c, type(c), d, type(d))\n",
    "\n",
    "# x = 1\n",
    "# y = int('1')\n",
    "# m = x + y\n",
    "# print(m, type(m))\n",
    "\n",
    "# z = '1'\n",
    "# n = x + z\n",
    "# print(n, type(n))"
   ]
  },
  {
   "cell_type": "code",
   "execution_count": 63,
   "metadata": {},
   "outputs": [],
   "source": [
    "def practice() :\n",
    "    value = input()\n",
    "    to = complex(value)\n",
    "    print('value: ', value, 'type: ', type(value))\n",
    "    print('to: ', to, 'type: ', type(to))\n",
    "\n",
    "practice()"
   ]
  },
  {
   "cell_type": "code",
   "execution_count": 57,
   "metadata": {},
   "outputs": [],
   "source": [
    "# Операции над данными\n",
    "\n",
    "# * Арифметические (+, -, *, /, **, %, //)\n",
    "\n",
    "# a = 10\n",
    "# b = 5\n",
    "# c = 12\n",
    "\n",
    "# print('a =', a)\n",
    "# print('b =', b)\n",
    "# print('c =', c)\n",
    "# print('a + b :', a + b)\n",
    "# print('a - b :', a - b)\n",
    "# print('a * b :', a * b)\n",
    "# print('a / b :', a / b)\n",
    "# print('a ** b :', a ** b)\n",
    "# print('a // b :', a // b)\n",
    "# print('a % b :', a % b)\n",
    "# print('c // b :', c // b)\n",
    "# print('c % b :', c % b)\n",
    "\n",
    "# * Сравнения (>, <, >=, <=, ==, !=)\n",
    "\n",
    "# a = 10\n",
    "# b = 5\n",
    "# c = 10\n",
    "\n",
    "# print('a =', a)\n",
    "# print('b =', b)\n",
    "# print('c =', c)\n",
    "# print('a > b :', a > b)\n",
    "# print('a < b :', a < b)\n",
    "# print('a >= b :', a >= b)\n",
    "# print('a >= c :', a >= c)\n",
    "# print('a <= b :', a <= b)\n",
    "# print('a <= c :', a <= c)\n",
    "# print('a == b :', a == b)\n",
    "# print('a == c :', a == c)\n",
    "# print('a != b :', a != b)\n",
    "# print('a != c :', a != c)\n",
    "\n",
    "# * Логические (and, or, not)\n",
    "\n",
    "# a = 10\n",
    "# b = 5\n",
    "# c = 10\n",
    "\n",
    "# print('a =', a)\n",
    "# print('b =', b)\n",
    "# print('c =', c)\n",
    "\n",
    "# print('a and b :', a and b)\n",
    "# print('a or c :', a or c)\n",
    "# print('a == b and a == c :', a == b and a == c)\n",
    "# print('a == b or a == c : ', a == b or a == c)\n",
    "# print('not a == b :', not a == b)\n",
    "# print('0 and 1 :', 0 and 1)\n",
    "# print('0 or 1 :', 0 or 1)\n",
    "# print('not 0 :', not 0)\n",
    "# print('not 1 :', not 1)\n",
    "# print('not True :', not True)\n",
    "# print('not False :', not False)\n",
    "\n",
    "# * Побитовые (& AND, | OR, ^ XOR, ~ NOT, << left shift, >> right shift)\n",
    "\n",
    "# a = 4 # 100\n",
    "# b = 5 # 101\n",
    "# c = 4 # 100\n",
    "\n",
    "# print('a & b :', a & b)\n",
    "# print('a & c :', a & c)\n",
    "# print('a | b :', a | b)\n",
    "# print('a | c :', a | c)\n",
    "# print('a ^ b :', a ^ b)\n",
    "# print('a ^ c :', a ^ c)\n",
    "# print('~a :', ~a)\n",
    "# print('~b :', ~b)\n",
    "# print('~c :', ~c)\n",
    "# print('a << 1 :', a << 1)\n",
    "# print('b << 1 :', b << 1)\n",
    "# print('a >> 1 :', a >> 1)\n",
    "# print('b >> 1 :', b >> 1)\n",
    "\n",
    "# * Присваивания (=, +=, -=, *=, /=, **=, %=, //=, &=, |=, ^=, >>=, <<=, :=) \n",
    "\n",
    "# print(x := 3)\n",
    "\n",
    "# a = 2\n",
    "# b = 3\n",
    "# c = 5\n",
    "\n",
    "# c += a\n",
    "# print(c)\n",
    "# c -= a\n",
    "# print(c)\n",
    "# c *= a\n",
    "# print(c)\n",
    "# c /= a\n",
    "# print(c)\n",
    "# c **= a\n",
    "# print(c)\n",
    "# c %= b\n",
    "# print(c)\n",
    "# b //= c\n",
    "# print(b)\n",
    "\n",
    "# ? Операторы идентификации | тождественности (is, is not)\n",
    "# ? Операторы принадлежности (in, not in)\n"
   ]
  },
  {
   "attachments": {
    "image.png": {
     "image/png": "[encoded data removed]"
    }
   },
   "cell_type": "markdown",
   "metadata": {},
   "source": [
    "![image.png](attachment:image.png)"
   ]
  },
  {
   "cell_type": "code",
   "execution_count": 66,
   "metadata": {},
   "outputs": [],
   "source": [
    "# Конкатенация строк\n",
    "\n",
    "a = '2'\n",
    "b = '5'\n",
    "c = 6\n",
    "\n",
    "# !\n",
    "\n",
    "# print(a + b)\n",
    "# print(a + c)"
   ]
  },
  {
   "cell_type": "code",
   "execution_count": null,
   "metadata": {},
   "outputs": [],
   "source": [
    "# Ветвления\n",
    "\n",
    "condition1 = condition2 = None\n",
    "\n",
    "if condition1 :\n",
    "    ...\n",
    "\n",
    "\n",
    "if condition1 :\n",
    "    ...\n",
    "else :\n",
    "    ... \n",
    "\n",
    "\n",
    "if condition1 :\n",
    "    ...\n",
    "elif condition2 :\n",
    "    ...\n",
    "else:\n",
    "    ..."
   ]
  },
  {
   "cell_type": "code",
   "execution_count": 90,
   "metadata": {},
   "outputs": [],
   "source": [
    "# Спроси у пользователя возраст. В зависимости от возраста выведи на экран его возрастную категорию: \n",
    "#   ребёнок (0-17), \n",
    "#   взрослый (18-69), \n",
    "#   пожилой (70-100), \n",
    "#   врушка (меньше 0, больше 100)"
   ]
  },
  {
   "cell_type": "code",
   "execution_count": null,
   "metadata": {},
   "outputs": [],
   "source": [
    "\n",
    "\n",
    "\n",
    "\n",
    "\n",
    "\n",
    "\n",
    "\n",
    "\n",
    "\n",
    "\n",
    "\n",
    "\n",
    "\n",
    "\n",
    "\n",
    "\n",
    "\n",
    "\n",
    "\n",
    "\n",
    "\n",
    "\n",
    "\n",
    "\n",
    "\n",
    "\n",
    "\n",
    "\n",
    "\n",
    "\n",
    "\n",
    "\n",
    "age = input('Введите ваш возраст: ')\n",
    "age = int(age)\n",
    "\n",
    "if age < 0 or age > 100:\n",
    "    print('Вы врушка!')\n",
    "elif age >= 0 and age <= 17:\n",
    "    print('Вы ребёнок!')\n",
    "elif age >= 18 and age <= 69:\n",
    "    print('Вы взрослый!')\n",
    "else:\n",
    "    print('Вы пожилой!')\n",
    "\n",
    "\n",
    "\n",
    "\n",
    "\n",
    "\n",
    "\n",
    "\n",
    "\n",
    "\n",
    "\n",
    "\n",
    "\n",
    "\n",
    "\n",
    "\n",
    "\n",
    "\n",
    "\n",
    "\n",
    "\n",
    "\n",
    "\n",
    "\n"
   ]
  },
  {
   "cell_type": "code",
   "execution_count": 100,
   "metadata": {},
   "outputs": [],
   "source": [
    "# Функции\n",
    "\n",
    "def name(variable1, variable2, variables...) :\n",
    "    ...\n",
    "    ? return ...\n"
   ]
  },
  {
   "cell_type": "code",
   "execution_count": 105,
   "metadata": {},
   "outputs": [],
   "source": [
    "def func():\n",
    "    print('func')\n",
    "    return\n",
    "\n",
    "result = func()\n",
    "print(result, type(result))"
   ]
  },
  {
   "cell_type": "code",
   "execution_count": null,
   "metadata": {},
   "outputs": [],
   "source": [
    "# Практика\n",
    "# Написать функцию с названием \"моя первая функция\", в ней выведи \"Привет из функции\" и вернуть из неё то, что введёт пользователь."
   ]
  },
  {
   "cell_type": "code",
   "execution_count": null,
   "metadata": {},
   "outputs": [],
   "source": []
  },
  {
   "cell_type": "code",
   "execution_count": null,
   "metadata": {},
   "outputs": [],
   "source": []
  },
  {
   "cell_type": "code",
   "execution_count": null,
   "metadata": {},
   "outputs": [],
   "source": []
  },
  {
   "cell_type": "code",
   "execution_count": null,
   "metadata": {},
   "outputs": [],
   "source": []
  },
  {
   "cell_type": "code",
   "execution_count": null,
   "metadata": {},
   "outputs": [],
   "source": []
  },
  {
   "cell_type": "code",
   "execution_count": null,
   "metadata": {},
   "outputs": [],
   "source": []
  },
  {
   "cell_type": "code",
   "execution_count": null,
   "metadata": {},
   "outputs": [],
   "source": []
  },
  {
   "cell_type": "code",
   "execution_count": null,
   "metadata": {},
   "outputs": [],
   "source": []
  },
  {
   "cell_type": "code",
   "execution_count": 98,
   "metadata": {},
   "outputs": [
    {
     "name": "stdout",
     "output_type": "stream",
     "text": [
      "None <class 'NoneType'>\n"
     ]
    }
   ],
   "source": [
    "# Практика на дом:\n",
    "\n",
    "# Создай по функции для каждой формулы сокращённого умножения\n",
    "\n",
    "# Пример a^2 - b^2: \n",
    "\n",
    "def diff_of_squares(a, b) :\n",
    "    result = (a - b) * (a + b)\n",
    "    return result\n",
    "\n"
   ]
  },
  {
   "cell_type": "markdown",
   "metadata": {},
   "source": [
    "#"
   ]
  }
 ],
 "metadata": {
  "kernelspec": {
   "display_name": "base",
   "language": "python",
   "name": "python3"
  },
  "language_info": {
   "codemirror_mode": {
    "name": "ipython",
    "version": 3
   },
   "file_extension": ".py",
   "mimetype": "text/x-python",
   "name": "python",
   "nbconvert_exporter": "python",
   "pygments_lexer": "ipython3",
   "version": "3.8.8"
  }
 },
 "nbformat": 4,
 "nbformat_minor": 2
}
